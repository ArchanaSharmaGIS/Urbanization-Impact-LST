{
 "cells": [
  {
   "cell_type": "code",
   "execution_count": 24,
   "id": "e708fcbd-2bdd-436c-ad67-f5893d438400",
   "metadata": {},
   "outputs": [],
   "source": [
    "import numpy as np\n",
    "import rasterio\n",
    "from scipy.constants import h, c, k  # Planck constant, speed of light, and Boltzmann constant"
   ]
  },
  {
   "cell_type": "code",
   "execution_count": 25,
   "id": "104539bc-55a9-4207-8d54-7b8ac373d0ef",
   "metadata": {},
   "outputs": [],
   "source": [
    "# Read raster band data\n",
    "def read_band(file_path):\n",
    "    with rasterio.open(file_path) as src:\n",
    "        band_data = src.read(1).astype(float)\n",
    "    return band_data, src.meta\n"
   ]
  },
  {
   "cell_type": "code",
   "execution_count": 26,
   "id": "412afe1e-7b3b-4bb6-8cb4-9f6bc3c09454",
   "metadata": {},
   "outputs": [],
   "source": [
    "# Convert digital numbers to radiance for Landsat TM\n",
    "def dn_to_radiance_tm(dn, lmax, lmin, qcal_max, qcal_min):\n",
    "    return ((lmax - lmin) / (qcal_max - qcal_min)) * (dn - qcal_min) + lmin"
   ]
  },
  {
   "cell_type": "code",
   "execution_count": 27,
   "id": "cf5b80ad-2642-440d-9653-b2c619e2a209",
   "metadata": {},
   "outputs": [],
   "source": [
    "# Convert digital numbers to radiance for Landsat 8 (OLI/TIRS)\n",
    "def dn_to_radiance_oli(dn, ml, al):\n",
    "    return ml * dn + al"
   ]
  },
  {
   "cell_type": "code",
   "execution_count": 28,
   "id": "7fab839b-70f7-4027-ac20-4be93ed00e3e",
   "metadata": {},
   "outputs": [],
   "source": [
    "# Calculate brightness temperature from radiance\n",
    "def calculate_brightness_temp(radiance, k1, k2):\n",
    "    return k2 / np.log((k1 / radiance) + 1)"
   ]
  },
  {
   "cell_type": "code",
   "execution_count": 29,
   "id": "062aa711-0a25-42cb-ad64-f5ede59a91af",
   "metadata": {},
   "outputs": [],
   "source": [
    "# Calculate NDVI\n",
    "def calculate_ndvi(nir, red):\n",
    "    ndvi = (nir - red) / (nir + red)\n",
    "    return np.clip(ndvi, -1, 1)"
   ]
  },
  {
   "cell_type": "code",
   "execution_count": 30,
   "id": "db7c71d4-0e3e-4d63-8e7c-51cc214301ed",
   "metadata": {},
   "outputs": [],
   "source": [
    "# Calculate proportion of vegetation (Pv)\n",
    "def calculate_pv(ndvi, ndvi_min=-1, ndvi_max=1):\n",
    "    return ((ndvi - ndvi_min) / (ndvi_max - ndvi_min)) ** 2"
   ]
  },
  {
   "cell_type": "code",
   "execution_count": 31,
   "id": "b371b8c9-32b6-457b-b8c0-e7ca247b1c86",
   "metadata": {},
   "outputs": [],
   "source": [
    "# Calculate land surface emissivity (LSE)\n",
    "def calculate_emissivity(pv):\n",
    "    return 0.004 * pv + 0.986"
   ]
  },
  {
   "cell_type": "code",
   "execution_count": 32,
   "id": "922b61e6-aafa-4551-9f97-c44deb1048b2",
   "metadata": {},
   "outputs": [],
   "source": [
    "# Calculate land surface temperature (LST)\n",
    "def calculate_lst(bt, emissivity, wavelength=0.00115):\n",
    "    p = h * c / k  # Planck's law constant ≈ 14380\n",
    "    return bt / (1 + (wavelength * bt / p) * np.log(emissivity))"
   ]
  },
  {
   "cell_type": "code",
   "execution_count": 33,
   "id": "e4fc6f63-ebd1-4f59-9407-dd0a1b0b852e",
   "metadata": {},
   "outputs": [
    {
     "name": "stderr",
     "output_type": "stream",
     "text": [
      "C:\\Users\\SuperAdmin\\AppData\\Local\\Temp\\ipykernel_13636\\2278530811.py:3: RuntimeWarning: invalid value encountered in divide\n",
      "  ndvi = (nir - red) / (nir + red)\n"
     ]
    }
   ],
   "source": [
    "# Load Landsat bands for NDVI calculation (adjust paths accordingly)\n",
    "red_band, meta = read_band(r\"C:\\Users\\SuperAdmin\\Downloads\\LC08_L2SP_144045_20201228_20210310_02_T1_SR_B4.TIF\")\n",
    "nir_band, _ = read_band(r\"C:\\Users\\SuperAdmin\\Downloads\\LC08_L2SP_144045_20201228_20210310_02_T1_SR_B5.TIF\")\n",
    "# Calculate NDVI\n",
    "ndvi = calculate_ndvi(nir_band, red_band)\n",
    "# Save NDVI result to a new file\n",
    "output_path_ndvi = r\"D:\\pythonCourse05-04-2024\\Git_Hub\\L8_2020_NDVi.tif\"\n",
    "meta.update(dtype=rasterio.float32)"
   ]
  },
  {
   "cell_type": "code",
   "execution_count": 34,
   "id": "6b6057e6-f69c-4c48-84ae-aefb1603e7a1",
   "metadata": {},
   "outputs": [],
   "source": [
    "with rasterio.open(output_path_ndvi, 'w', **meta) as dst:\n",
    "    dst.write(ndvi.astype(rasterio.float32), 1)\n",
    "\n",
    "# Calculate Pv and emissivity for LST\n",
    "pv = calculate_pv(ndvi)\n",
    "emissivity = calculate_emissivity(pv)\n",
    "\n",
    "# ========== LST Calculation for Landsat 5 (TM) ==========\n",
    "thermal_band_tm, _ = read_band(r\"C:\\Users\\SuperAdmin\\Downloads\\LC08_L2SP_144045_20201228_20210310_02_T1_ST_B10.TIF\")"
   ]
  },
  {
   "cell_type": "code",
   "execution_count": 35,
   "id": "eed5d652-0c38-410d-87b4-323f701d03dd",
   "metadata": {},
   "outputs": [],
   "source": [
    "# Metadata and constants for Landsat 5 TM (modify based on your metadata file)\n",
    "L5_LMAX = 15.03\n",
    "L5_LMIN = 1.238\n",
    "L5_QCAL_MAX = 255\n",
    "L5_QCAL_MIN = 1\n",
    "L5_K1 = 607.76\n",
    "L5_K2 = 1260.56"
   ]
  },
  {
   "cell_type": "code",
   "execution_count": 36,
   "id": "3cd4d1e5-9861-4016-a554-872053dd044e",
   "metadata": {},
   "outputs": [],
   "source": [
    "# Convert DN to radiance for Landsat 5 TM and then to brightness temperature\n",
    "radiance_tm = dn_to_radiance_tm(thermal_band_tm, L5_LMAX, L5_LMIN, L5_QCAL_MAX, L5_QCAL_MIN)\n",
    "bt_tm = calculate_brightness_temp(radiance_tm, L5_K1, L5_K2)\n"
   ]
  },
  {
   "cell_type": "code",
   "execution_count": 37,
   "id": "e86e7c18-f8b8-4b18-8318-cd4475d3542d",
   "metadata": {},
   "outputs": [],
   "source": [
    "# Calculate LST for Landsat 5 TM\n",
    "lst_tm = calculate_lst(bt_tm, emissivity)\n",
    "lst_tm_celsius = lst_tm - 273.15"
   ]
  },
  {
   "cell_type": "code",
   "execution_count": 38,
   "id": "baa2ad4a-ef0b-4d1b-8724-6347b05a54a5",
   "metadata": {},
   "outputs": [],
   "source": [
    "# Save LST for Landsat 5 TM to a new file\n",
    "output_path_lst_tm =r\"D:\\pythonCourse05-04-2024\\Git_Hub\\L8_2009_LST.tif\"\n",
    "meta.update(dtype=rasterio.float32)"
   ]
  },
  {
   "cell_type": "code",
   "execution_count": 39,
   "id": "fa375b7b-e24b-4088-8d8a-7537bd3565b0",
   "metadata": {},
   "outputs": [],
   "source": [
    "with rasterio.open(output_path_lst_tm, 'w', **meta) as dst:\n",
    "    dst.write(lst_tm_celsius.astype(rasterio.float32), 1)\n",
    "\n",
    "# ========== LST Calculation for Landsat 8 (OLI/TIRS) ==========\n",
    "thermal_band10, _ = read_band(r\"C:\\Users\\SuperAdmin\\Downloads\\LC08_L2SP_144045_20201228_20210310_02_T1_ST_B10.TIF\")"
   ]
  },
  {
   "cell_type": "code",
   "execution_count": 40,
   "id": "82e7f5ee-8b17-4488-ab9c-31f10a7f120d",
   "metadata": {},
   "outputs": [],
   "source": [
    "# Metadata and constants for Landsat 8 Band 10\n",
    "L8_ML_BAND10 = 3.3420E-04\n",
    "L8_AL_BAND10 = 0.10000\n",
    "L8_K1_BAND10 = 774.8853\n",
    "L8_K2_BAND10 = 1321.0789"
   ]
  },
  {
   "cell_type": "code",
   "execution_count": 41,
   "id": "d2231867-eb46-4325-94b9-2393148ce0b5",
   "metadata": {},
   "outputs": [],
   "source": [
    "# Convert DN to radiance for Landsat 8 (OLI/TIRS) using Band 10\n",
    "radiance_band10 = dn_to_radiance_oli(thermal_band10, L8_ML_BAND10, L8_AL_BAND10)"
   ]
  },
  {
   "cell_type": "code",
   "execution_count": 42,
   "id": "23d8b5e1-0815-43b4-90a3-e93b4711506e",
   "metadata": {},
   "outputs": [],
   "source": [
    "# Calculate brightness temperature for Landsat 8 Band 10\n",
    "bt_band10 = calculate_brightness_temp(radiance_band10, L8_K1_BAND10, L8_K2_BAND10)"
   ]
  },
  {
   "cell_type": "code",
   "execution_count": 43,
   "id": "146efff1-74e6-4d17-b31d-478d4aa5125a",
   "metadata": {},
   "outputs": [],
   "source": [
    "# Calculate LST for Landsat 8 using brightness temperature\n",
    "lst_oli = calculate_lst(bt_band10, emissivity)\n",
    "lst_oli_celsius = lst_oli - 273.15"
   ]
  },
  {
   "cell_type": "code",
   "execution_count": 44,
   "id": "5c85a54f-383b-4f88-a1e0-be88f5922c53",
   "metadata": {},
   "outputs": [],
   "source": [
    "# Save LST for Landsat 8 to a new file\n",
    "output_path_lst_oli =r\"D:\\pythonCourse05-04-2024\\Git_Hub\\L8_2020_LST.tif\""
   ]
  },
  {
   "cell_type": "code",
   "execution_count": 45,
   "id": "337d2553-61ac-4cfa-a584-6c4bc96e5610",
   "metadata": {},
   "outputs": [
    {
     "name": "stdout",
     "output_type": "stream",
     "text": [
      "NDVI, LST for Landsat 5, and LST for Landsat 8 calculations are complete.\n",
      "Outputs saved to: D:\\pythonCourse05-04-2024\\Git_Hub\\L8_2020_NDVi.tif D:\\pythonCourse05-04-2024\\Git_Hub\\L8_2009_LST.tif D:\\pythonCourse05-04-2024\\Git_Hub\\L8_2020_LST.tif\n"
     ]
    }
   ],
   "source": [
    "with rasterio.open(output_path_lst_oli, 'w', **meta) as dst:\n",
    "    dst.write(lst_oli_celsius.astype(rasterio.float32), 1)\n",
    "    print(\"NDVI, LST for Landsat 5, and LST for Landsat 8 calculations are complete.\")\n",
    "print(\"Outputs saved to:\", output_path_ndvi, output_path_lst_tm, output_path_lst_oli)"
   ]
  }
 ],
 "metadata": {
  "kernelspec": {
   "display_name": "Python 3 (ipykernel)",
   "language": "python",
   "name": "python3"
  },
  "language_info": {
   "codemirror_mode": {
    "name": "ipython",
    "version": 3
   },
   "file_extension": ".py",
   "mimetype": "text/x-python",
   "name": "python",
   "nbconvert_exporter": "python",
   "pygments_lexer": "ipython3",
   "version": "3.12.3"
  }
 },
 "nbformat": 4,
 "nbformat_minor": 5
}
